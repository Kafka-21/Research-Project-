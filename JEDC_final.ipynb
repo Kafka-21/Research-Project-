{
 "cells": [
  {
   "cell_type": "markdown",
   "metadata": {},
   "source": [
    "- The model is very parsimonious; \n",
    "- it has six preference parameters and two exogenous sequences: TFP and wage wedges."
   ]
  },
  {
   "cell_type": "markdown",
   "metadata": {},
   "source": [
    "- Given wage wedges, TFP for each sector is chosen such that the model reproduces time paths of sectoral shares of labor and real aggregate GDP per worker in the data.\n",
    "\n",
    "- These variables in the data are converted to ones expressed in efficiency units."
   ]
  },
  {
   "cell_type": "markdown",
   "metadata": {},
   "source": [
    "As implications, the model also matches the shares of value added in the data. In addition, the model generates changes in relative prices of output that are quantitatively consistent with those in the data. Therefore, the model replicates the process of structural change for each country."
   ]
  },
  {
   "cell_type": "code",
   "execution_count": null,
   "metadata": {},
   "outputs": [],
   "source": []
  }
 ],
 "metadata": {
  "language_info": {
   "name": "python"
  },
  "orig_nbformat": 4
 },
 "nbformat": 4,
 "nbformat_minor": 2
}
