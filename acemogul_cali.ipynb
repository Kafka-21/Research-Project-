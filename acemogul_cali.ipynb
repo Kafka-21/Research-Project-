{
 "cells": [
  {
   "cell_type": "markdown",
   "metadata": {},
   "source": [
    "Learning the calibration technique \n",
    "\n",
    "- completed QJE Duarte paper calibration \n",
    "- focus on Acemoglu and Rubina Verma calibration procedure \n",
    "- Prof Chetan Ghate paper for calibration \n",
    "- Prof Debasis Paper & Prof Kaushik for reference "
   ]
  },
  {
   "cell_type": "code",
   "execution_count": 1,
   "metadata": {},
   "outputs": [],
   "source": [
    "import numpy as np \n",
    "import pandas as pd\n",
    "import matplotlib.pyplot as plt"
   ]
  },
  {
   "cell_type": "code",
   "execution_count": 2,
   "metadata": {},
   "outputs": [],
   "source": [
    "data1 = pd.read_stata(\"/users/quasar/downloads/Research_Project/non_balanced_growth/Data STAN.dta\")\n",
    "data2 = pd.read_stata(\"/users/quasar/downloads/Research_Project/non_balanced_growth/Data STAN_two.dta\")"
   ]
  },
  {
   "cell_type": "code",
   "execution_count": 3,
   "metadata": {},
   "outputs": [
    {
     "name": "stdout",
     "output_type": "stream",
     "text": [
      "<class 'pandas.core.frame.DataFrame'>\n",
      "Int64Index: 34272 entries, 0 to 34271\n",
      "Data columns (total 10 columns):\n",
      " #   Column        Non-Null Count  Dtype  \n",
      "---  ------        --------------  -----  \n",
      " 0   country       34272 non-null  object \n",
      " 1   industry      34272 non-null  object \n",
      " 2   code          34272 non-null  int16  \n",
      " 3   level         34272 non-null  int8   \n",
      " 4   year          34272 non-null  int16  \n",
      " 5   level1        34272 non-null  int8   \n",
      " 6   vadded        21565 non-null  float32\n",
      " 7   vaddedvol     16512 non-null  float32\n",
      " 8   compensation  19771 non-null  float32\n",
      " 9   employees     14260 non-null  float32\n",
      "dtypes: float32(4), int16(2), int8(2), object(2)\n",
      "memory usage: 1.5+ MB\n"
     ]
    }
   ],
   "source": [
    "data1.info()"
   ]
  },
  {
   "cell_type": "code",
   "execution_count": 4,
   "metadata": {},
   "outputs": [
    {
     "data": {
      "text/plain": [
       "array(['........Aircraft and spacecraft',\n",
       "       '........Building and repairing of ships and boats',\n",
       "       '........Chemicals excluding phamaceuticals',\n",
       "       '........Computer and related activities',\n",
       "       '........Electrical machinery and apparatus, nec',\n",
       "       '........Iron and steel',\n",
       "       '........Medical, precision and optical instruments, watches and clocks',\n",
       "       '........Non-ferrous metals',\n",
       "       '........Office, accounting and computing machinery',\n",
       "       '........Other business activities', '........Pharmaceuticals',\n",
       "       '........Radio, television and communication equipment',\n",
       "       '........Railroad equipment and transport equipment n.e.c.',\n",
       "       '........Renting of machinery and equipment',\n",
       "       '........Research and development', '........Textiles',\n",
       "       '........Wearing apparel, dressing and dyeing of fur',\n",
       "       '....Activities related to financial intermediation',\n",
       "       '....Air transport', '....Basic metals',\n",
       "       '....Chemicals and chemical products',\n",
       "       '....Coke, refined petroleum products and nuclear fuel',\n",
       "       '....Electrical and optical equipment',\n",
       "       '....Fabricated metal products, except machinery and equipment',\n",
       "       '....Financial intermediation except insurance and pension funding',\n",
       "       '....Food products and beverages',\n",
       "       '....Furniture; manufacturing n.e.c.',\n",
       "       '....Insurance and pension funding, except compulsory social security',\n",
       "       '....Land transport; transport via pipelines',\n",
       "       '....Leather, leather products and footwear',\n",
       "       '....Machinery and equipment, n.e.c.',\n",
       "       '....Motor vehicles, trailers and semi-trailers',\n",
       "       '....Other transport equipment', '....Paper and paper products',\n",
       "       '....Publishing, printing and reproduction of recorded media',\n",
       "       '....Real estate activities', '....Recycling',\n",
       "       '....Renting of machinery and equipment and other business activities',\n",
       "       '....Retail trade; repair of personal and household goods',\n",
       "       '....Rubber and plastics products',\n",
       "       '....Sale, maintenace and repair of motor vehicles; retail sale of automotive fue',\n",
       "       '....Supporting and auxiliary transport activities',\n",
       "       '....Textiles and textile products', '....Tobacco products',\n",
       "       '....Water transport', '....Wholesale Trade',\n",
       "       'BUSINESS SECTOR SERVICES',\n",
       "       'Basic metals and fabricated metal products',\n",
       "       'Basic metals, metal products, machinery and equipment',\n",
       "       'COMMUNITY SOCIAL AND PERSONAL SERVICES', 'CONSTRUCTION',\n",
       "       'Chemical, rubber, plastics and fuel products',\n",
       "       'Collection, purification and distribution of water',\n",
       "       'ELECTRICITY, GAS AND WATER SUPPLY', 'Education',\n",
       "       'Electricity, gas, steam and hot water supply',\n",
       "       'Extra-territorial organisations and bodies',\n",
       "       'FINANCE, INSURANCE, REAL ESTATE AND BUSINESS SERVICES',\n",
       "       'Financial intermediation', 'Food products, beverages and tobacco',\n",
       "       'Health and social work', 'Hotels and restaurants',\n",
       "       'MINING AND QUARRYING', 'Machinery and equipment',\n",
       "       'Manufacturing nec',\n",
       "       'Mining and quarrying except energy producing materials',\n",
       "       'Mining and quarrying of energy producing materials',\n",
       "       'NON-AGRICULTURE BUSINESS SECTOR',\n",
       "       'Other community, social and personal services',\n",
       "       'Other non-metallic mineral products',\n",
       "       'Post and telecommunications',\n",
       "       'Private households with employed persons',\n",
       "       'Public admin. and defence; compulsory social security',\n",
       "       'Pulp, paper, paper products, printing and publishing',\n",
       "       'Real estate, renting and business activities',\n",
       "       'TOTAL MANUFACTURING', 'TOTAL SERVICES',\n",
       "       'TRANSPORT AND STORAGE AND COMMUNICATION',\n",
       "       'Textiles, textile products, leather and footwear',\n",
       "       'Transport and storage', 'Transport equipment',\n",
       "       'WHOLESALE AND RETAIL TRADE; RESTAURANTS AND HOTELS',\n",
       "       'Wholesale and retail trade; repairs',\n",
       "       'Wood and products of wood and cork'], dtype=object)"
      ]
     },
     "execution_count": 4,
     "metadata": {},
     "output_type": "execute_result"
    }
   ],
   "source": [
    "data2.industry.unique()"
   ]
  },
  {
   "cell_type": "code",
   "execution_count": null,
   "metadata": {},
   "outputs": [],
   "source": []
  }
 ],
 "metadata": {
  "interpreter": {
   "hash": "aee8b7b246df8f9039afb4144a1f6fd8d2ca17a180786b69acc140d282b71a49"
  },
  "kernelspec": {
   "display_name": "Python 3.9.9 64-bit",
   "language": "python",
   "name": "python3"
  },
  "language_info": {
   "codemirror_mode": {
    "name": "ipython",
    "version": 3
   },
   "file_extension": ".py",
   "mimetype": "text/x-python",
   "name": "python",
   "nbconvert_exporter": "python",
   "pygments_lexer": "ipython3",
   "version": "3.9.9"
  },
  "orig_nbformat": 4
 },
 "nbformat": 4,
 "nbformat_minor": 2
}
