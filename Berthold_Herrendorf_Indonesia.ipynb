{
 "cells": [
  {
   "cell_type": "code",
   "execution_count": 23,
   "metadata": {},
   "outputs": [],
   "source": [
    "import numpy as np\n",
    "import pandas as pd \n",
    "import matplotlib.pyplot as plt\n",
    "import seaborn as sns\n",
    "import statsmodels.api as sm\n",
    "\n",
    "pd.set_option('display.expand_frame_repr', False)\n",
    "pd.set_option('display.max_rows', 500)\n",
    "pd.set_option('display.max_columns', 500)\n",
    "pd.set_option('display.width', 1000)\n",
    "pd.options.display.float_format = '{:,.2f}'.format"
   ]
  },
  {
   "cell_type": "code",
   "execution_count": 24,
   "metadata": {},
   "outputs": [
    {
     "data": {
      "text/html": [
       "<div>\n",
       "<style scoped>\n",
       "    .dataframe tbody tr th:only-of-type {\n",
       "        vertical-align: middle;\n",
       "    }\n",
       "\n",
       "    .dataframe tbody tr th {\n",
       "        vertical-align: top;\n",
       "    }\n",
       "\n",
       "    .dataframe thead th {\n",
       "        text-align: right;\n",
       "    }\n",
       "</style>\n",
       "<table border=\"1\" class=\"dataframe\">\n",
       "  <thead>\n",
       "    <tr style=\"text-align: right;\">\n",
       "      <th></th>\n",
       "      <th>country</th>\n",
       "      <th>sample</th>\n",
       "      <th>serial</th>\n",
       "      <th>hhwt</th>\n",
       "      <th>pernum</th>\n",
       "      <th>perwt</th>\n",
       "      <th>age</th>\n",
       "      <th>sex</th>\n",
       "      <th>edattain</th>\n",
       "      <th>edattaind</th>\n",
       "      <th>yrschool</th>\n",
       "      <th>educid</th>\n",
       "      <th>empstat</th>\n",
       "      <th>empstatd</th>\n",
       "      <th>indgen</th>\n",
       "      <th>classwk</th>\n",
       "      <th>classwkd</th>\n",
       "      <th>incwage</th>\n",
       "    </tr>\n",
       "    <tr>\n",
       "      <th>year</th>\n",
       "      <th></th>\n",
       "      <th></th>\n",
       "      <th></th>\n",
       "      <th></th>\n",
       "      <th></th>\n",
       "      <th></th>\n",
       "      <th></th>\n",
       "      <th></th>\n",
       "      <th></th>\n",
       "      <th></th>\n",
       "      <th></th>\n",
       "      <th></th>\n",
       "      <th></th>\n",
       "      <th></th>\n",
       "      <th></th>\n",
       "      <th></th>\n",
       "      <th></th>\n",
       "      <th></th>\n",
       "    </tr>\n",
       "  </thead>\n",
       "  <tbody>\n",
       "    <tr>\n",
       "      <th>1971</th>\n",
       "      <td>526746</td>\n",
       "      <td>526746</td>\n",
       "      <td>526746</td>\n",
       "      <td>526746</td>\n",
       "      <td>526746</td>\n",
       "      <td>526746</td>\n",
       "      <td>526746</td>\n",
       "      <td>526746</td>\n",
       "      <td>526746</td>\n",
       "      <td>526746</td>\n",
       "      <td>0</td>\n",
       "      <td>526746</td>\n",
       "      <td>526746</td>\n",
       "      <td>526746</td>\n",
       "      <td>526746</td>\n",
       "      <td>526746</td>\n",
       "      <td>526746</td>\n",
       "      <td>0</td>\n",
       "    </tr>\n",
       "    <tr>\n",
       "      <th>1976</th>\n",
       "      <td>234364</td>\n",
       "      <td>234364</td>\n",
       "      <td>234364</td>\n",
       "      <td>234364</td>\n",
       "      <td>234364</td>\n",
       "      <td>234364</td>\n",
       "      <td>234364</td>\n",
       "      <td>234364</td>\n",
       "      <td>234364</td>\n",
       "      <td>234364</td>\n",
       "      <td>234364</td>\n",
       "      <td>234364</td>\n",
       "      <td>234364</td>\n",
       "      <td>234364</td>\n",
       "      <td>234364</td>\n",
       "      <td>234364</td>\n",
       "      <td>234364</td>\n",
       "      <td>234364</td>\n",
       "    </tr>\n",
       "    <tr>\n",
       "      <th>1980</th>\n",
       "      <td>6091135</td>\n",
       "      <td>6091135</td>\n",
       "      <td>6091135</td>\n",
       "      <td>6091135</td>\n",
       "      <td>6091135</td>\n",
       "      <td>6091135</td>\n",
       "      <td>6091135</td>\n",
       "      <td>6091135</td>\n",
       "      <td>6091135</td>\n",
       "      <td>6091135</td>\n",
       "      <td>6091135</td>\n",
       "      <td>6091135</td>\n",
       "      <td>6091135</td>\n",
       "      <td>6091135</td>\n",
       "      <td>6091135</td>\n",
       "      <td>6091135</td>\n",
       "      <td>6091135</td>\n",
       "      <td>0</td>\n",
       "    </tr>\n",
       "    <tr>\n",
       "      <th>1985</th>\n",
       "      <td>515826</td>\n",
       "      <td>515826</td>\n",
       "      <td>515826</td>\n",
       "      <td>515826</td>\n",
       "      <td>515826</td>\n",
       "      <td>515826</td>\n",
       "      <td>515826</td>\n",
       "      <td>515826</td>\n",
       "      <td>515826</td>\n",
       "      <td>515826</td>\n",
       "      <td>515826</td>\n",
       "      <td>515826</td>\n",
       "      <td>515826</td>\n",
       "      <td>515826</td>\n",
       "      <td>515826</td>\n",
       "      <td>515826</td>\n",
       "      <td>515826</td>\n",
       "      <td>0</td>\n",
       "    </tr>\n",
       "    <tr>\n",
       "      <th>1990</th>\n",
       "      <td>789701</td>\n",
       "      <td>789701</td>\n",
       "      <td>789701</td>\n",
       "      <td>789701</td>\n",
       "      <td>789701</td>\n",
       "      <td>789701</td>\n",
       "      <td>789701</td>\n",
       "      <td>789701</td>\n",
       "      <td>789701</td>\n",
       "      <td>789701</td>\n",
       "      <td>789701</td>\n",
       "      <td>789701</td>\n",
       "      <td>789701</td>\n",
       "      <td>789701</td>\n",
       "      <td>789701</td>\n",
       "      <td>789701</td>\n",
       "      <td>789701</td>\n",
       "      <td>0</td>\n",
       "    </tr>\n",
       "    <tr>\n",
       "      <th>1995</th>\n",
       "      <td>629476</td>\n",
       "      <td>629476</td>\n",
       "      <td>629476</td>\n",
       "      <td>629476</td>\n",
       "      <td>629476</td>\n",
       "      <td>629476</td>\n",
       "      <td>629476</td>\n",
       "      <td>629476</td>\n",
       "      <td>629476</td>\n",
       "      <td>629476</td>\n",
       "      <td>629476</td>\n",
       "      <td>629476</td>\n",
       "      <td>629476</td>\n",
       "      <td>629476</td>\n",
       "      <td>629476</td>\n",
       "      <td>629476</td>\n",
       "      <td>629476</td>\n",
       "      <td>629476</td>\n",
       "    </tr>\n",
       "    <tr>\n",
       "      <th>2000</th>\n",
       "      <td>17672340</td>\n",
       "      <td>17672340</td>\n",
       "      <td>17672340</td>\n",
       "      <td>17672340</td>\n",
       "      <td>17672340</td>\n",
       "      <td>17672340</td>\n",
       "      <td>17672340</td>\n",
       "      <td>17672340</td>\n",
       "      <td>17672340</td>\n",
       "      <td>17672340</td>\n",
       "      <td>0</td>\n",
       "      <td>17672340</td>\n",
       "      <td>0</td>\n",
       "      <td>0</td>\n",
       "      <td>0</td>\n",
       "      <td>17672340</td>\n",
       "      <td>17672340</td>\n",
       "      <td>0</td>\n",
       "    </tr>\n",
       "    <tr>\n",
       "      <th>2005</th>\n",
       "      <td>964964</td>\n",
       "      <td>964964</td>\n",
       "      <td>964964</td>\n",
       "      <td>964964</td>\n",
       "      <td>964964</td>\n",
       "      <td>964964</td>\n",
       "      <td>964964</td>\n",
       "      <td>964964</td>\n",
       "      <td>964964</td>\n",
       "      <td>964964</td>\n",
       "      <td>964964</td>\n",
       "      <td>964964</td>\n",
       "      <td>0</td>\n",
       "      <td>0</td>\n",
       "      <td>964964</td>\n",
       "      <td>964964</td>\n",
       "      <td>964964</td>\n",
       "      <td>0</td>\n",
       "    </tr>\n",
       "    <tr>\n",
       "      <th>2010</th>\n",
       "      <td>20747049</td>\n",
       "      <td>20747049</td>\n",
       "      <td>20747049</td>\n",
       "      <td>20747049</td>\n",
       "      <td>20747049</td>\n",
       "      <td>20747049</td>\n",
       "      <td>20747049</td>\n",
       "      <td>20747049</td>\n",
       "      <td>20747049</td>\n",
       "      <td>20747049</td>\n",
       "      <td>0</td>\n",
       "      <td>20747049</td>\n",
       "      <td>20747049</td>\n",
       "      <td>20747049</td>\n",
       "      <td>20747049</td>\n",
       "      <td>20747049</td>\n",
       "      <td>20747049</td>\n",
       "      <td>0</td>\n",
       "    </tr>\n",
       "  </tbody>\n",
       "</table>\n",
       "</div>"
      ],
      "text/plain": [
       "       country    sample    serial      hhwt    pernum     perwt       age       sex  edattain  edattaind  yrschool    educid   empstat  empstatd    indgen   classwk  classwkd  incwage\n",
       "year                                                                                                                                                                                    \n",
       "1971    526746    526746    526746    526746    526746    526746    526746    526746    526746     526746         0    526746    526746    526746    526746    526746    526746        0\n",
       "1976    234364    234364    234364    234364    234364    234364    234364    234364    234364     234364    234364    234364    234364    234364    234364    234364    234364   234364\n",
       "1980   6091135   6091135   6091135   6091135   6091135   6091135   6091135   6091135   6091135    6091135   6091135   6091135   6091135   6091135   6091135   6091135   6091135        0\n",
       "1985    515826    515826    515826    515826    515826    515826    515826    515826    515826     515826    515826    515826    515826    515826    515826    515826    515826        0\n",
       "1990    789701    789701    789701    789701    789701    789701    789701    789701    789701     789701    789701    789701    789701    789701    789701    789701    789701        0\n",
       "1995    629476    629476    629476    629476    629476    629476    629476    629476    629476     629476    629476    629476    629476    629476    629476    629476    629476   629476\n",
       "2000  17672340  17672340  17672340  17672340  17672340  17672340  17672340  17672340  17672340   17672340         0  17672340         0         0         0  17672340  17672340        0\n",
       "2005    964964    964964    964964    964964    964964    964964    964964    964964    964964     964964    964964    964964         0         0    964964    964964    964964        0\n",
       "2010  20747049  20747049  20747049  20747049  20747049  20747049  20747049  20747049  20747049   20747049         0  20747049  20747049  20747049  20747049  20747049  20747049        0"
      ]
     },
     "execution_count": 24,
     "metadata": {},
     "output_type": "execute_result"
    }
   ],
   "source": [
    "# reading dataset for Indonesia IPUMS\n",
    "data_indonesia = pd.read_stata('/users/quasar/downloads/ipumsi_00030.dta')\n",
    "data_indonesia.groupby('year').count()"
   ]
  },
  {
   "cell_type": "markdown",
   "metadata": {},
   "source": [
    "## Sector in economy - Agriculture, Industry, Unskilled services, Skilled services "
   ]
  },
  {
   "cell_type": "code",
   "execution_count": 25,
   "metadata": {},
   "outputs": [
    {
     "data": {
      "text/html": [
       "<div>\n",
       "<style scoped>\n",
       "    .dataframe tbody tr th:only-of-type {\n",
       "        vertical-align: middle;\n",
       "    }\n",
       "\n",
       "    .dataframe tbody tr th {\n",
       "        vertical-align: top;\n",
       "    }\n",
       "\n",
       "    .dataframe thead th {\n",
       "        text-align: right;\n",
       "    }\n",
       "</style>\n",
       "<table border=\"1\" class=\"dataframe\">\n",
       "  <thead>\n",
       "    <tr style=\"text-align: right;\">\n",
       "      <th></th>\n",
       "      <th>country</th>\n",
       "      <th>year</th>\n",
       "      <th>sample</th>\n",
       "      <th>serial</th>\n",
       "      <th>hhwt</th>\n",
       "      <th>pernum</th>\n",
       "      <th>perwt</th>\n",
       "      <th>age</th>\n",
       "      <th>sex</th>\n",
       "      <th>edattain</th>\n",
       "      <th>edattaind</th>\n",
       "      <th>yrschool</th>\n",
       "      <th>educid</th>\n",
       "      <th>empstat</th>\n",
       "      <th>empstatd</th>\n",
       "      <th>indgen</th>\n",
       "      <th>classwk</th>\n",
       "      <th>classwkd</th>\n",
       "      <th>incwage</th>\n",
       "    </tr>\n",
       "  </thead>\n",
       "  <tbody>\n",
       "    <tr>\n",
       "      <th>0</th>\n",
       "      <td>indonesia</td>\n",
       "      <td>1971</td>\n",
       "      <td>indonesia 1971</td>\n",
       "      <td>1,000.00</td>\n",
       "      <td>661</td>\n",
       "      <td>1</td>\n",
       "      <td>608</td>\n",
       "      <td>30</td>\n",
       "      <td>male</td>\n",
       "      <td>primary completed</td>\n",
       "      <td>primary (6 yrs) completed</td>\n",
       "      <td>NaN</td>\n",
       "      <td>primary education (6 years), completed</td>\n",
       "      <td>employed</td>\n",
       "      <td>employed, not specified</td>\n",
       "      <td>construction</td>\n",
       "      <td>wage/salary worker</td>\n",
       "      <td>wage/salary worker</td>\n",
       "      <td>NaN</td>\n",
       "    </tr>\n",
       "    <tr>\n",
       "      <th>1</th>\n",
       "      <td>indonesia</td>\n",
       "      <td>1971</td>\n",
       "      <td>indonesia 1971</td>\n",
       "      <td>1,000.00</td>\n",
       "      <td>661</td>\n",
       "      <td>2</td>\n",
       "      <td>608</td>\n",
       "      <td>25</td>\n",
       "      <td>female</td>\n",
       "      <td>less than primary completed</td>\n",
       "      <td>some primary completed</td>\n",
       "      <td>NaN</td>\n",
       "      <td>primary education (6 years), not completed</td>\n",
       "      <td>inactive</td>\n",
       "      <td>housework</td>\n",
       "      <td>niu (not in universe)</td>\n",
       "      <td>niu (not in universe)</td>\n",
       "      <td>niu (not in universe)</td>\n",
       "      <td>NaN</td>\n",
       "    </tr>\n",
       "    <tr>\n",
       "      <th>2</th>\n",
       "      <td>indonesia</td>\n",
       "      <td>1971</td>\n",
       "      <td>indonesia 1971</td>\n",
       "      <td>2,000.00</td>\n",
       "      <td>660</td>\n",
       "      <td>1</td>\n",
       "      <td>608</td>\n",
       "      <td>35</td>\n",
       "      <td>male</td>\n",
       "      <td>less than primary completed</td>\n",
       "      <td>no schooling</td>\n",
       "      <td>NaN</td>\n",
       "      <td>none</td>\n",
       "      <td>employed</td>\n",
       "      <td>employed, not specified</td>\n",
       "      <td>agriculture, fishing, and forestry</td>\n",
       "      <td>wage/salary worker</td>\n",
       "      <td>wage/salary worker</td>\n",
       "      <td>NaN</td>\n",
       "    </tr>\n",
       "    <tr>\n",
       "      <th>3</th>\n",
       "      <td>indonesia</td>\n",
       "      <td>1971</td>\n",
       "      <td>indonesia 1971</td>\n",
       "      <td>2,000.00</td>\n",
       "      <td>660</td>\n",
       "      <td>2</td>\n",
       "      <td>608</td>\n",
       "      <td>30</td>\n",
       "      <td>female</td>\n",
       "      <td>less than primary completed</td>\n",
       "      <td>no schooling</td>\n",
       "      <td>NaN</td>\n",
       "      <td>none</td>\n",
       "      <td>inactive</td>\n",
       "      <td>housework</td>\n",
       "      <td>niu (not in universe)</td>\n",
       "      <td>niu (not in universe)</td>\n",
       "      <td>niu (not in universe)</td>\n",
       "      <td>NaN</td>\n",
       "    </tr>\n",
       "    <tr>\n",
       "      <th>4</th>\n",
       "      <td>indonesia</td>\n",
       "      <td>1971</td>\n",
       "      <td>indonesia 1971</td>\n",
       "      <td>2,000.00</td>\n",
       "      <td>660</td>\n",
       "      <td>3</td>\n",
       "      <td>608</td>\n",
       "      <td>12</td>\n",
       "      <td>male</td>\n",
       "      <td>less than primary completed</td>\n",
       "      <td>no schooling</td>\n",
       "      <td>NaN</td>\n",
       "      <td>none</td>\n",
       "      <td>employed</td>\n",
       "      <td>employed, not specified</td>\n",
       "      <td>public administration and defense</td>\n",
       "      <td>unpaid worker</td>\n",
       "      <td>unpaid family worker</td>\n",
       "      <td>NaN</td>\n",
       "    </tr>\n",
       "  </tbody>\n",
       "</table>\n",
       "</div>"
      ],
      "text/plain": [
       "     country  year          sample   serial  hhwt  pernum  perwt age     sex                     edattain                  edattaind yrschool                                      educid   empstat                 empstatd                              indgen                classwk               classwkd  incwage\n",
       "0  indonesia  1971  indonesia 1971 1,000.00   661       1    608  30    male            primary completed  primary (6 yrs) completed      NaN      primary education (6 years), completed  employed  employed, not specified                        construction     wage/salary worker     wage/salary worker      NaN\n",
       "1  indonesia  1971  indonesia 1971 1,000.00   661       2    608  25  female  less than primary completed     some primary completed      NaN  primary education (6 years), not completed  inactive                housework               niu (not in universe)  niu (not in universe)  niu (not in universe)      NaN\n",
       "2  indonesia  1971  indonesia 1971 2,000.00   660       1    608  35    male  less than primary completed               no schooling      NaN                                        none  employed  employed, not specified  agriculture, fishing, and forestry     wage/salary worker     wage/salary worker      NaN\n",
       "3  indonesia  1971  indonesia 1971 2,000.00   660       2    608  30  female  less than primary completed               no schooling      NaN                                        none  inactive                housework               niu (not in universe)  niu (not in universe)  niu (not in universe)      NaN\n",
       "4  indonesia  1971  indonesia 1971 2,000.00   660       3    608  12    male  less than primary completed               no schooling      NaN                                        none  employed  employed, not specified   public administration and defense          unpaid worker   unpaid family worker      NaN"
      ]
     },
     "execution_count": 25,
     "metadata": {},
     "output_type": "execute_result"
    }
   ],
   "source": [
    "data_indonesia.head()"
   ]
  },
  {
   "cell_type": "code",
   "execution_count": 26,
   "metadata": {},
   "outputs": [
    {
     "data": {
      "text/plain": [
       "country             0\n",
       "year                0\n",
       "sample              0\n",
       "serial              0\n",
       "hhwt                0\n",
       "pernum              0\n",
       "perwt               0\n",
       "age                 0\n",
       "sex                 0\n",
       "edattain            0\n",
       "edattaind           0\n",
       "yrschool     38946135\n",
       "educid              0\n",
       "empstat      18637304\n",
       "empstatd     18637304\n",
       "indgen       17672340\n",
       "classwk             0\n",
       "classwkd            0\n",
       "incwage      47307761\n",
       "dtype: int64"
      ]
     },
     "execution_count": 26,
     "metadata": {},
     "output_type": "execute_result"
    }
   ],
   "source": [
    "data_indonesia.isnull().sum()"
   ]
  },
  {
   "cell_type": "code",
   "execution_count": 7,
   "metadata": {},
   "outputs": [
    {
     "data": {
      "text/plain": [
       "\"\\ndata_indonesia_clean = data_indonesia.loc[(data_indonesia['year'] == '1971') | (data_indonesia['year'] == '1995')]\\ndata_indonesia_clean.groupby('year').count()\\n\""
      ]
     },
     "execution_count": 7,
     "metadata": {},
     "output_type": "execute_result"
    }
   ],
   "source": [
    "\"\"\"\n",
    "data_indonesia_clean = data_indonesia.loc[(data_indonesia['year'] == '1971') | (data_indonesia['year'] == '1995')]\n",
    "data_indonesia_clean.groupby('year').count()\n",
    "\"\"\""
   ]
  },
  {
   "cell_type": "code",
   "execution_count": 27,
   "metadata": {},
   "outputs": [
    {
     "name": "stdout",
     "output_type": "stream",
     "text": [
      "\n",
      "Sector by labour share % \n"
     ]
    },
    {
     "data": {
      "text/plain": [
       "year                   \n",
       "1971  Agriculture         0.37\n",
       "      Unskilled service   0.33\n",
       "      Skilled service     0.17\n",
       "      Industry            0.13\n",
       "1976  Agriculture         0.53\n",
       "      Unskilled service   0.27\n",
       "      Industry            0.11\n",
       "      Skilled service     0.10\n",
       "1980  Agriculture         0.56\n",
       "      Unskilled service   0.23\n",
       "      Industry            0.13\n",
       "      Skilled service     0.08\n",
       "1985  Agriculture         0.56\n",
       "      Unskilled service   0.22\n",
       "      Industry            0.13\n",
       "      Skilled service     0.09\n",
       "1990  Agriculture         0.51\n",
       "      Unskilled service   0.22\n",
       "      Industry            0.16\n",
       "      Skilled service     0.11\n",
       "1995  Agriculture         0.46\n",
       "      Unskilled service   0.23\n",
       "      Industry            0.19\n",
       "      Skilled service     0.12\n",
       "2000  Agriculture          NaN\n",
       "      Industry             NaN\n",
       "      Unskilled service    NaN\n",
       "      Skilled service      NaN\n",
       "2005  Agriculture         0.50\n",
       "      Unskilled service   0.25\n",
       "      Industry            0.12\n",
       "      Skilled service     0.12\n",
       "2010  Agriculture         0.40\n",
       "      Unskilled service   0.24\n",
       "      Skilled service     0.19\n",
       "      Industry            0.17\n",
       "Name: indgen, dtype: float64"
      ]
     },
     "execution_count": 27,
     "metadata": {},
     "output_type": "execute_result"
    }
   ],
   "source": [
    "data_indonesia['indgen'].replace(to_replace=['agriculture, fishing, and forestry'], value='Agriculture', inplace=True)\n",
    "data_indonesia['indgen'].replace(to_replace=['construction', 'manufacturing' ,'mining and extraction'], value='Industry', inplace=True)\n",
    "data_indonesia['indgen'].replace(to_replace=['hotels and restaurants','private household services',\n",
    "                    'transportation, storage, and communications', 'wholesale and retail trade'], \n",
    "                    value='Unskilled service', inplace=True)\n",
    "data_indonesia['indgen'].replace(to_replace=['education', 'financial services and insurance','health and social work',\n",
    "                    'public administration and defense',\n",
    "                    'other services', 'business services and real estate', \n",
    "                    'electricity, gas, water and waste management' ], \n",
    "                    value='Skilled service', inplace=True)\n",
    "\n",
    "indexNames = data_indonesia[data_indonesia['indgen'].isin(['unknown', 'niu (not in universe)'])].index\n",
    "data_indonesia = data_indonesia.drop(indexNames)\n",
    "data_indonesia['indgen'].replace(to_replace=['niu (not in universe)', 'unknown'], value='Agriculture', inplace=True)\n",
    "print(\"\\nSector by labour share % \")\n",
    "share = data_indonesia.groupby('year')['indgen'].value_counts(normalize=True)\n",
    "share"
   ]
  },
  {
   "cell_type": "markdown",
   "metadata": {},
   "source": [
    "## Mean of incwage (Wage) by year and sector"
   ]
  },
  {
   "cell_type": "code",
   "execution_count": 28,
   "metadata": {},
   "outputs": [
    {
     "data": {
      "text/plain": [
       "['primary education (6 years), completed', 'none', 'primary education (6 years), not completed', 'junior high school', 'junior vocational school', ..., 'diploma i/ii', 'graduate school, completed', 'graduate school, not completed', 'graduate school', 'niu (not in universe)']\n",
       "Length: 69\n",
       "Categories (69, object): ['niu (not in universe)' < 'none' < 'no schooling or primary not completed' < 'preschool, not completed' ... 'graduate school, completed' < 'masters' < 'doctoral program' < 'unknown']"
      ]
     },
     "execution_count": 28,
     "metadata": {},
     "output_type": "execute_result"
    }
   ],
   "source": [
    "data_indonesia.educid.unique()"
   ]
  },
  {
   "cell_type": "code",
   "execution_count": 29,
   "metadata": {},
   "outputs": [
    {
     "name": "stdout",
     "output_type": "stream",
     "text": [
      "\n",
      "Mean of incwage by year and sector\n",
      "\n",
      "year  indgen           educid                               \n",
      "1971  Agriculture      niu (not in universe)                   NaN\n",
      "                       none                                    NaN\n",
      "                       no schooling or primary not completed   NaN\n",
      "                       preschool, not completed                NaN\n",
      "                       preschool, completed                    NaN\n",
      "                                                                ..\n",
      "2010  Skilled service  graduate school, not completed          NaN\n",
      "                       graduate school, completed              NaN\n",
      "                       masters                                 NaN\n",
      "                       doctoral program                        NaN\n",
      "                       unknown                                 NaN\n",
      "Name: incwage, Length: 2484, dtype: float64\n"
     ]
    }
   ],
   "source": [
    "print(\"\\nMean of incwage by year and sector\\n\")\n",
    "print(data_indonesia.groupby(['year','indgen', 'educid'])['incwage'].mean())"
   ]
  },
  {
   "cell_type": "markdown",
   "metadata": {},
   "source": [
    "## Median of incwage by year and sector "
   ]
  },
  {
   "cell_type": "code",
   "execution_count": 22,
   "metadata": {},
   "outputs": [
    {
     "name": "stdout",
     "output_type": "stream",
     "text": [
      "\n",
      "Mean of incwage by year and sector\n",
      "\n",
      "year  indgen             classwk              \n",
      "1971  Agriculture        niu (not in universe)            NaN\n",
      "                         self-employed                    NaN\n",
      "                         wage/salary worker               NaN\n",
      "                         unpaid worker                    NaN\n",
      "                         unknown/missing                  NaN\n",
      "      Industry           niu (not in universe)            NaN\n",
      "                         self-employed                    NaN\n",
      "                         wage/salary worker               NaN\n",
      "                         unpaid worker                    NaN\n",
      "                         unknown/missing                  NaN\n",
      "      Unskilled service  niu (not in universe)            NaN\n",
      "                         self-employed                    NaN\n",
      "                         wage/salary worker               NaN\n",
      "                         unpaid worker                    NaN\n",
      "                         unknown/missing                  NaN\n",
      "      Skilled service    niu (not in universe)            NaN\n",
      "                         self-employed                    NaN\n",
      "                         wage/salary worker               NaN\n",
      "                         unpaid worker                    NaN\n",
      "                         unknown/missing                  NaN\n",
      "1976  Agriculture        niu (not in universe)            NaN\n",
      "                         self-employed           9,896,367.96\n",
      "                         wage/salary worker      1,544,968.00\n",
      "                         unpaid worker           9,947,546.56\n",
      "                         unknown/missing         9,355,128.10\n",
      "      Industry           niu (not in universe)            NaN\n",
      "                         self-employed           9,802,746.59\n",
      "                         wage/salary worker      1,009,622.32\n",
      "                         unpaid worker           9,916,412.78\n",
      "                         unknown/missing         8,002,398.80\n",
      "      Unskilled service  niu (not in universe)            NaN\n",
      "                         self-employed           9,871,752.47\n",
      "                         wage/salary worker      1,158,443.93\n",
      "                         unpaid worker           9,866,867.82\n",
      "                         unknown/missing         8,825,528.47\n",
      "      Skilled service    niu (not in universe)            NaN\n",
      "                         self-employed           9,369,735.91\n",
      "                         wage/salary worker        529,661.79\n",
      "                         unpaid worker           9,999,999.00\n",
      "                         unknown/missing         6,006,799.20\n",
      "1980  Agriculture        niu (not in universe)            NaN\n",
      "                         self-employed                    NaN\n",
      "                         wage/salary worker               NaN\n",
      "                         unpaid worker                    NaN\n",
      "                         unknown/missing                  NaN\n",
      "      Industry           niu (not in universe)            NaN\n",
      "                         self-employed                    NaN\n",
      "                         wage/salary worker               NaN\n",
      "                         unpaid worker                    NaN\n",
      "                         unknown/missing                  NaN\n",
      "      Unskilled service  niu (not in universe)            NaN\n",
      "                         self-employed                    NaN\n",
      "                         wage/salary worker               NaN\n",
      "                         unpaid worker                    NaN\n",
      "                         unknown/missing                  NaN\n",
      "      Skilled service    niu (not in universe)            NaN\n",
      "                         self-employed                    NaN\n",
      "                         wage/salary worker               NaN\n",
      "                         unpaid worker                    NaN\n",
      "                         unknown/missing                  NaN\n",
      "1985  Agriculture        niu (not in universe)            NaN\n",
      "                         self-employed                    NaN\n",
      "                         wage/salary worker               NaN\n",
      "                         unpaid worker                    NaN\n",
      "                         unknown/missing                  NaN\n",
      "      Industry           niu (not in universe)            NaN\n",
      "                         self-employed                    NaN\n",
      "                         wage/salary worker               NaN\n",
      "                         unpaid worker                    NaN\n",
      "                         unknown/missing                  NaN\n",
      "      Unskilled service  niu (not in universe)            NaN\n",
      "                         self-employed                    NaN\n",
      "                         wage/salary worker               NaN\n",
      "                         unpaid worker                    NaN\n",
      "                         unknown/missing                  NaN\n",
      "      Skilled service    niu (not in universe)            NaN\n",
      "                         self-employed                    NaN\n",
      "                         wage/salary worker               NaN\n",
      "                         unpaid worker                    NaN\n",
      "                         unknown/missing                  NaN\n",
      "1990  Agriculture        niu (not in universe)            NaN\n",
      "                         self-employed                    NaN\n",
      "                         wage/salary worker               NaN\n",
      "                         unpaid worker                    NaN\n",
      "                         unknown/missing                  NaN\n",
      "      Industry           niu (not in universe)            NaN\n",
      "                         self-employed                    NaN\n",
      "                         wage/salary worker               NaN\n",
      "                         unpaid worker                    NaN\n",
      "                         unknown/missing                  NaN\n",
      "      Unskilled service  niu (not in universe)            NaN\n",
      "                         self-employed                    NaN\n",
      "                         wage/salary worker               NaN\n",
      "                         unpaid worker                    NaN\n",
      "                         unknown/missing                  NaN\n",
      "      Skilled service    niu (not in universe)            NaN\n",
      "                         self-employed                    NaN\n",
      "                         wage/salary worker               NaN\n",
      "                         unpaid worker                    NaN\n",
      "                         unknown/missing                  NaN\n",
      "1995  Agriculture        niu (not in universe)            NaN\n",
      "                         self-employed           9,999,999.00\n",
      "                         wage/salary worker         99,367.97\n",
      "                         unpaid worker           9,999,999.00\n",
      "                         unknown/missing                  NaN\n",
      "      Industry           niu (not in universe)            NaN\n",
      "                         self-employed           9,999,999.00\n",
      "                         wage/salary worker        192,619.14\n",
      "                         unpaid worker           9,999,999.00\n",
      "                         unknown/missing                  NaN\n",
      "      Unskilled service  niu (not in universe)            NaN\n",
      "                         self-employed           9,999,999.00\n",
      "                         wage/salary worker        222,396.02\n",
      "                         unpaid worker           9,999,999.00\n",
      "                         unknown/missing                  NaN\n",
      "      Skilled service    niu (not in universe)            NaN\n",
      "                         self-employed           9,999,999.00\n",
      "                         wage/salary worker        279,910.50\n",
      "                         unpaid worker           9,999,999.00\n",
      "                         unknown/missing                  NaN\n",
      "2000  Agriculture        niu (not in universe)            NaN\n",
      "                         self-employed                    NaN\n",
      "                         wage/salary worker               NaN\n",
      "                         unpaid worker                    NaN\n",
      "                         unknown/missing                  NaN\n",
      "      Industry           niu (not in universe)            NaN\n",
      "                         self-employed                    NaN\n",
      "                         wage/salary worker               NaN\n",
      "                         unpaid worker                    NaN\n",
      "                         unknown/missing                  NaN\n",
      "      Unskilled service  niu (not in universe)            NaN\n",
      "                         self-employed                    NaN\n",
      "                         wage/salary worker               NaN\n",
      "                         unpaid worker                    NaN\n",
      "                         unknown/missing                  NaN\n",
      "      Skilled service    niu (not in universe)            NaN\n",
      "                         self-employed                    NaN\n",
      "                         wage/salary worker               NaN\n",
      "                         unpaid worker                    NaN\n",
      "                         unknown/missing                  NaN\n",
      "2005  Agriculture        niu (not in universe)            NaN\n",
      "                         self-employed                    NaN\n",
      "                         wage/salary worker               NaN\n",
      "                         unpaid worker                    NaN\n",
      "                         unknown/missing                  NaN\n",
      "      Industry           niu (not in universe)            NaN\n",
      "                         self-employed                    NaN\n",
      "                         wage/salary worker               NaN\n",
      "                         unpaid worker                    NaN\n",
      "                         unknown/missing                  NaN\n",
      "      Unskilled service  niu (not in universe)            NaN\n",
      "                         self-employed                    NaN\n",
      "                         wage/salary worker               NaN\n",
      "                         unpaid worker                    NaN\n",
      "                         unknown/missing                  NaN\n",
      "      Skilled service    niu (not in universe)            NaN\n",
      "                         self-employed                    NaN\n",
      "                         wage/salary worker               NaN\n",
      "                         unpaid worker                    NaN\n",
      "                         unknown/missing                  NaN\n",
      "2010  Agriculture        niu (not in universe)            NaN\n",
      "                         self-employed                    NaN\n",
      "                         wage/salary worker               NaN\n",
      "                         unpaid worker                    NaN\n",
      "                         unknown/missing                  NaN\n",
      "      Industry           niu (not in universe)            NaN\n",
      "                         self-employed                    NaN\n",
      "                         wage/salary worker               NaN\n",
      "                         unpaid worker                    NaN\n",
      "                         unknown/missing                  NaN\n",
      "      Unskilled service  niu (not in universe)            NaN\n",
      "                         self-employed                    NaN\n",
      "                         wage/salary worker               NaN\n",
      "                         unpaid worker                    NaN\n",
      "                         unknown/missing                  NaN\n",
      "      Skilled service    niu (not in universe)            NaN\n",
      "                         self-employed                    NaN\n",
      "                         wage/salary worker               NaN\n",
      "                         unpaid worker                    NaN\n",
      "                         unknown/missing                  NaN\n",
      "Name: incwage, dtype: float64\n"
     ]
    }
   ],
   "source": [
    "print(\"\\nMean of incwage by year and sector\\n\")\n",
    "print(data_indonesia.groupby(['year','indgen', 'classwk'])['incwage'].mean())"
   ]
  },
  {
   "cell_type": "code",
   "execution_count": 30,
   "metadata": {},
   "outputs": [
    {
     "name": "stdout",
     "output_type": "stream",
     "text": [
      "\n",
      "Median of incwage by year and sector\n",
      "\n",
      "year  indgen           educid                               \n",
      "1971  Agriculture      niu (not in universe)                   NaN\n",
      "                       none                                    NaN\n",
      "                       no schooling or primary not completed   NaN\n",
      "                       preschool, not completed                NaN\n",
      "                       preschool, completed                    NaN\n",
      "                                                                ..\n",
      "2010  Skilled service  graduate school, not completed          NaN\n",
      "                       graduate school, completed              NaN\n",
      "                       masters                                 NaN\n",
      "                       doctoral program                        NaN\n",
      "                       unknown                                 NaN\n",
      "Name: incwage, Length: 2484, dtype: float64\n"
     ]
    }
   ],
   "source": [
    "print(\"\\nMedian of incwage by year and sector\\n\")\n",
    "print(data_indonesia.groupby(['year','indgen', 'educid'])['incwage'].median())"
   ]
  },
  {
   "cell_type": "code",
   "execution_count": 31,
   "metadata": {},
   "outputs": [
    {
     "data": {
      "text/plain": [
       "['primary education (6 years), completed', 'none', 'primary education (6 years), not completed', 'junior high school', 'junior vocational school', ..., 'diploma i/ii', 'graduate school, completed', 'graduate school, not completed', 'graduate school', 'niu (not in universe)']\n",
       "Length: 69\n",
       "Categories (69, object): ['niu (not in universe)' < 'none' < 'no schooling or primary not completed' < 'preschool, not completed' ... 'graduate school, completed' < 'masters' < 'doctoral program' < 'unknown']"
      ]
     },
     "execution_count": 31,
     "metadata": {},
     "output_type": "execute_result"
    }
   ],
   "source": [
    "data_indonesia['educid'].unique()"
   ]
  },
  {
   "cell_type": "code",
   "execution_count": 32,
   "metadata": {},
   "outputs": [
    {
     "data": {
      "text/plain": [
       "[NaN, '6 years', '12 years', '15 years', 'some primary', ..., '8 years', '14 years', 'some tertiary', '13 years', '17 years']\n",
       "Length: 23\n",
       "Categories (22, object): ['none or pre-school' < '1 year' < '2 years' < '3 years' ... 'some primary' < 'some secondary' < 'some tertiary' < 'unknown/missing']"
      ]
     },
     "execution_count": 32,
     "metadata": {},
     "output_type": "execute_result"
    }
   ],
   "source": [
    "data_indonesia['yrschool'].unique()"
   ]
  },
  {
   "cell_type": "code",
   "execution_count": 33,
   "metadata": {},
   "outputs": [],
   "source": [
    "data_indonesia['yrschool'].replace(to_replace= ['none or pre-school'], value = 0, inplace=True)\n",
    "data_indonesia['yrschool'].replace(to_replace= ['1 year'], value = 1, inplace=True)\n",
    "data_indonesia['yrschool'].replace(to_replace= ['2 years'], value = 2, inplace=True)\n",
    "data_indonesia['yrschool'].replace(to_replace= ['3 years'], value = 3 , inplace=True)\n",
    "data_indonesia['yrschool'].replace(to_replace= ['4 years'], value = 4, inplace=True)\n",
    "data_indonesia['yrschool'].replace(to_replace= ['5 years'], value = 5, inplace=True)\n",
    "data_indonesia['yrschool'].replace(to_replace= ['6 years'], value = 6 , inplace=True)\n",
    "data_indonesia['yrschool'].replace(to_replace= ['7 years'], value = 7, inplace=True)\n",
    "data_indonesia['yrschool'].replace(to_replace= ['8 years'], value = 8, inplace=True)\n",
    "data_indonesia['yrschool'].replace(to_replace= ['9 years'], value = 9 , inplace=True)\n",
    "data_indonesia['yrschool'].replace(to_replace= ['10 years'], value = 10, inplace=True)\n",
    "data_indonesia['yrschool'].replace(to_replace= ['11 years'], value = 11, inplace=True)\n",
    "data_indonesia['yrschool'].replace(to_replace= ['12 years'], value = 12, inplace=True)\n",
    "data_indonesia['yrschool'].replace(to_replace= ['13 years'], value = 13, inplace=True)\n",
    "data_indonesia['yrschool'].replace(to_replace= ['14 years'], value = 14, inplace=True)\n",
    "data_indonesia['yrschool'].replace(to_replace= ['15 years'], value = 15, inplace=True)\n",
    "data_indonesia['yrschool'].replace(to_replace= ['16 years'], value = 16, inplace=True)\n",
    "data_indonesia['yrschool'].replace(to_replace= ['17 years'], value = 17, inplace=True)\n",
    "data_indonesia['yrschool'].replace(to_replace= ['18 years or more'], value = 18 , inplace=True)\n",
    "\n",
    "data_indonesia['yrschool'].replace(to_replace= ['not specified'], value = 90, inplace=True)\n",
    "data_indonesia['yrschool'].replace(to_replace= ['some primary'], value = 91, inplace=True)\n",
    "data_indonesia['yrschool'].replace(to_replace= ['some technical after primary'], value = 92, inplace=True)\n",
    "data_indonesia['yrschool'].replace(to_replace= ['some secondary'], value = 93, inplace=True)\n",
    "data_indonesia['yrschool'].replace(to_replace= ['some tertiary'], value = 94, inplace=True)\n",
    "data_indonesia['yrschool'].replace(to_replace= ['adult literacy'], value = 95, inplace=True)\n",
    "data_indonesia['yrschool'].replace(to_replace= ['special education'], value = 96, inplace=True)\n",
    "data_indonesia['yrschool'].replace(to_replace= ['unknown/missing'], value = 98, inplace=True)\n",
    "data_indonesia['yrschool'].replace(to_replace= ['niu (not in universe)'], value = 99, inplace=True)"
   ]
  },
  {
   "cell_type": "code",
   "execution_count": 34,
   "metadata": {},
   "outputs": [
    {
     "data": {
      "text/plain": [
       "[NaN, 6, 12, 15, 91, ..., 8, 14, 94, 13, 17]\n",
       "Length: 23\n",
       "Categories (22, int64): [0 < 1 < 2 < 3 ... 91 < 93 < 94 < 98]"
      ]
     },
     "execution_count": 34,
     "metadata": {},
     "output_type": "execute_result"
    }
   ],
   "source": [
    "data_indonesia['yrschool'].unique()"
   ]
  },
  {
   "cell_type": "code",
   "execution_count": 35,
   "metadata": {},
   "outputs": [
    {
     "data": {
      "text/plain": [
       "['Industry', 'Agriculture', 'Skilled service', 'Unskilled service', NaN]\n",
       "Categories (4, object): ['Agriculture' < 'Industry' < 'Unskilled service' < 'Skilled service']"
      ]
     },
     "execution_count": 35,
     "metadata": {},
     "output_type": "execute_result"
    }
   ],
   "source": [
    "data_indonesia['indgen'].unique()"
   ]
  },
  {
   "cell_type": "code",
   "execution_count": 36,
   "metadata": {},
   "outputs": [
    {
     "data": {
      "text/plain": [
       "(32102950, 19)"
      ]
     },
     "execution_count": 36,
     "metadata": {},
     "output_type": "execute_result"
    }
   ],
   "source": [
    "data_indonesia.shape"
   ]
  },
  {
   "cell_type": "code",
   "execution_count": 37,
   "metadata": {},
   "outputs": [
    {
     "name": "stdout",
     "output_type": "stream",
     "text": [
      "<class 'pandas.core.frame.DataFrame'>\n",
      "Int64Index: 32102950 entries, 0 to 48171596\n",
      "Data columns (total 21 columns):\n",
      " #   Column                    Dtype   \n",
      "---  ------                    -----   \n",
      " 0   country                   category\n",
      " 1   year                      category\n",
      " 2   sample                    category\n",
      " 3   serial                    float64 \n",
      " 4   hhwt                      int16   \n",
      " 5   pernum                    int8    \n",
      " 6   perwt                     int16   \n",
      " 7   age                       category\n",
      " 8   edattain                  category\n",
      " 9   edattaind                 category\n",
      " 10  yrschool                  category\n",
      " 11  educid                    category\n",
      " 12  empstat                   category\n",
      " 13  empstatd                  category\n",
      " 14  classwk                   category\n",
      " 15  classwkd                  category\n",
      " 16  incwage                   float64 \n",
      " 17  indgen_Industry           uint8   \n",
      " 18  indgen_Unskilled service  uint8   \n",
      " 19  indgen_Skilled service    uint8   \n",
      " 20  sex_female                uint8   \n",
      "dtypes: category(12), float64(2), int16(2), int8(1), uint8(4)\n",
      "memory usage: 1.3 GB\n"
     ]
    }
   ],
   "source": [
    "# calculting mincer returns \n",
    "# use sector dummy and sex as control \n",
    "\n",
    "data_reg = pd.get_dummies(data_indonesia, columns=['indgen', 'sex'], drop_first=True)\n",
    "data_reg.info()"
   ]
  },
  {
   "cell_type": "code",
   "execution_count": 38,
   "metadata": {},
   "outputs": [
    {
     "data": {
      "text/plain": [
       "\"\\ndata_reg['educin'].replace(to_replace=['illiterate, less than primary'], value = 0 , inplace=True)\\ndata_reg['educin'].replace(to_replace=['literate, less than primary'], value = 2 , inplace=True)\\ndata_reg['educin'].replace(to_replace=['primary'], value = 5 , inplace=True)\\ndata_reg['educin'].replace(to_replace=['middle'], value = 8 , inplace=True)\\ndata_reg['educin'].replace(to_replace=['secondary'], value = 10 , inplace=True)\\ndata_reg['educin'].replace(to_replace=['higher secondary'], value = 12 , inplace=True)\\ndata_reg['educin'].replace(to_replace=['undergraduate or graduate'], value = 15 , inplace=True)\\ndata_reg['educin'].replace(to_replace=['unknown'], value = 99 , inplace=True)\\n\""
      ]
     },
     "execution_count": 38,
     "metadata": {},
     "output_type": "execute_result"
    }
   ],
   "source": [
    "# transforming variables in educin \n",
    "\"\"\"\n",
    "data_reg['educin'].replace(to_replace=['illiterate, less than primary'], value = 0 , inplace=True)\n",
    "data_reg['educin'].replace(to_replace=['literate, less than primary'], value = 2 , inplace=True)\n",
    "data_reg['educin'].replace(to_replace=['primary'], value = 5 , inplace=True)\n",
    "data_reg['educin'].replace(to_replace=['middle'], value = 8 , inplace=True)\n",
    "data_reg['educin'].replace(to_replace=['secondary'], value = 10 , inplace=True)\n",
    "data_reg['educin'].replace(to_replace=['higher secondary'], value = 12 , inplace=True)\n",
    "data_reg['educin'].replace(to_replace=['undergraduate or graduate'], value = 15 , inplace=True)\n",
    "data_reg['educin'].replace(to_replace=['unknown'], value = 99 , inplace=True)\n",
    "\"\"\""
   ]
  },
  {
   "cell_type": "code",
   "execution_count": 39,
   "metadata": {},
   "outputs": [
    {
     "data": {
      "text/plain": [
       "['1971', '1976', '1980', '1985', '1990', '1995', '2000', '2005', '2010']\n",
       "Categories (9, object): ['1971' < '1976' < '1980' < '1985' ... '1995' < '2000' < '2005' < '2010']"
      ]
     },
     "execution_count": 39,
     "metadata": {},
     "output_type": "execute_result"
    }
   ],
   "source": [
    "data_reg['year'].unique()"
   ]
  },
  {
   "cell_type": "code",
   "execution_count": 40,
   "metadata": {},
   "outputs": [
    {
     "data": {
      "text/plain": [
       "[NaN, 6, 12, 15, 91, ..., 8, 14, 94, 13, 17]\n",
       "Length: 23\n",
       "Categories (22, int64): [0 < 1 < 2 < 3 ... 91 < 93 < 94 < 98]"
      ]
     },
     "execution_count": 40,
     "metadata": {},
     "output_type": "execute_result"
    }
   ],
   "source": [
    "data_reg.yrschool.unique()"
   ]
  },
  {
   "cell_type": "code",
   "execution_count": 41,
   "metadata": {},
   "outputs": [],
   "source": [
    "data_reg = data_reg.loc[data_reg.yrschool.isin([4,  0,  2,  3,  1,  6,  5, 12, 11,  8,  9, 15,  7, 13, 10,\n",
    "       14, 17, 18, 16])]"
   ]
  },
  {
   "cell_type": "code",
   "execution_count": 44,
   "metadata": {},
   "outputs": [
    {
     "name": "stdout",
     "output_type": "stream",
     "text": [
      "(102130, 4)\n",
      "(102130,)\n",
      "                            OLS Regression Results                            \n",
      "==============================================================================\n",
      "Dep. Variable:                incwage   R-squared:                       0.228\n",
      "Model:                            OLS   Adj. R-squared:                  0.228\n",
      "Method:                 Least Squares   F-statistic:                     7528.\n",
      "Date:                Sun, 19 Dec 2021   Prob (F-statistic):               0.00\n",
      "Time:                        19:19:15   Log-Likelihood:            -2.5087e+05\n",
      "No. Observations:              102130   AIC:                         5.018e+05\n",
      "Df Residuals:                  102125   BIC:                         5.018e+05\n",
      "Df Model:                           4                                         \n",
      "Covariance Type:            nonrobust                                         \n",
      "============================================================================================\n",
      "                               coef    std err          t      P>|t|      [0.025      0.975]\n",
      "--------------------------------------------------------------------------------------------\n",
      "const                       15.0839      0.014   1069.193      0.000      15.056      15.112\n",
      "sex_female                   0.2498      0.018     13.538      0.000       0.214       0.286\n",
      "indgen_Industry             -2.9543      0.029   -101.372      0.000      -3.011      -2.897\n",
      "indgen_Unskilled service    -1.2734      0.021    -60.674      0.000      -1.315      -1.232\n",
      "indgen_Skilled service      -4.7431      0.031   -151.961      0.000      -4.804      -4.682\n",
      "==============================================================================\n",
      "Omnibus:                    17014.238   Durbin-Watson:                   1.233\n",
      "Prob(Omnibus):                  0.000   Jarque-Bera (JB):            26814.866\n",
      "Skew:                          -1.202   Prob(JB):                         0.00\n",
      "Kurtosis:                       3.722   Cond. No.                         4.44\n",
      "==============================================================================\n",
      "\n",
      "Notes:\n",
      "[1] Standard Errors assume that the covariance matrix of the errors is correctly specified.\n"
     ]
    },
    {
     "name": "stderr",
     "output_type": "stream",
     "text": [
      "/usr/local/lib/python3.9/site-packages/statsmodels/tsa/tsatools.py:142: FutureWarning: In a future version of pandas all arguments of concat except for the argument 'objs' will be keyword-only\n",
      "  x = pd.concat(x[::order], 1)\n"
     ]
    },
    {
     "name": "stdout",
     "output_type": "stream",
     "text": [
      "                            OLS Regression Results                            \n",
      "==============================================================================\n",
      "Dep. Variable:                incwage   R-squared:                       0.228\n",
      "Model:                            OLS   Adj. R-squared:                  0.228\n",
      "Method:                 Least Squares   F-statistic:                     6032.\n",
      "Date:                Sun, 19 Dec 2021   Prob (F-statistic):               0.00\n",
      "Time:                        19:19:15   Log-Likelihood:            -2.5085e+05\n",
      "No. Observations:              102130   AIC:                         5.017e+05\n",
      "Df Residuals:                  102124   BIC:                         5.018e+05\n",
      "Df Model:                           5                                         \n",
      "Covariance Type:            nonrobust                                         \n",
      "============================================================================================\n",
      "                               coef    std err          t      P>|t|      [0.025      0.975]\n",
      "--------------------------------------------------------------------------------------------\n",
      "const                       15.1375      0.017    904.608      0.000      15.105      15.170\n",
      "sex_female                   0.2253      0.019     11.917      0.000       0.188       0.262\n",
      "yrschool                    -0.0165      0.003     -5.949      0.000      -0.022      -0.011\n",
      "indgen_Industry             -2.9272      0.029    -99.255      0.000      -2.985      -2.869\n",
      "indgen_Unskilled service    -1.2440      0.022    -57.695      0.000      -1.286      -1.202\n",
      "indgen_Skilled service      -4.6307      0.036   -126.946      0.000      -4.702      -4.559\n",
      "==============================================================================\n",
      "Omnibus:                    17191.767   Durbin-Watson:                   1.232\n",
      "Prob(Omnibus):                  0.000   Jarque-Bera (JB):            27218.099\n",
      "Skew:                          -1.209   Prob(JB):                         0.00\n",
      "Kurtosis:                       3.739   Cond. No.                         24.7\n",
      "==============================================================================\n",
      "\n",
      "Notes:\n",
      "[1] Standard Errors assume that the covariance matrix of the errors is correctly specified.\n"
     ]
    },
    {
     "name": "stderr",
     "output_type": "stream",
     "text": [
      "/usr/local/lib/python3.9/site-packages/statsmodels/tsa/tsatools.py:142: FutureWarning: In a future version of pandas all arguments of concat except for the argument 'objs' will be keyword-only\n",
      "  x = pd.concat(x[::order], 1)\n"
     ]
    }
   ],
   "source": [
    "# Income \n",
    "data_reg =  data_reg[data_reg['incwage'] != 0]\n",
    "\n",
    "Y = data_reg[['year', 'incwage']]\n",
    "X = data_reg[['year', 'sex_female', 'yrschool','indgen_Industry', \n",
    "                    'indgen_Unskilled service', 'indgen_Skilled service']]\n",
    "\n",
    "# year 1976\n",
    "Y_1976 = Y.loc[Y.year == '1976']['incwage']\n",
    "X_1976 = data_reg.loc[data_reg.year == '1976']\n",
    "X_1976_1 = X_1976[['sex_female',\n",
    "                     'indgen_Industry', 'indgen_Unskilled service', 'indgen_Skilled service']]\n",
    "\n",
    "print(X_1976_1.shape)\n",
    "print(Y_1976.shape)\n",
    "\n",
    "# regression of log wage on sector and sex \n",
    "reg_1 = sm.OLS(endog= np.log(Y_1976), exog= sm.add_constant(X_1976_1))\n",
    "result_1 = reg_1.fit()\n",
    "print(result_1.summary())\n",
    "\n",
    "# for calculting mincer returns - adding years of schooling \n",
    "X_1976_2 = X_1976[['sex_female', 'yrschool',\n",
    "                     'indgen_Industry', 'indgen_Unskilled service', 'indgen_Skilled service']]\n",
    "\n",
    "reg_2 = sm.OLS(endog= np.log(Y_1976), exog= sm.add_constant(X_1976_2))\n",
    "result_2 = reg_2.fit()\n",
    "print(result_2.summary())"
   ]
  },
  {
   "cell_type": "code",
   "execution_count": 45,
   "metadata": {},
   "outputs": [
    {
     "name": "stdout",
     "output_type": "stream",
     "text": [
      "(273753, 4)\n",
      "(273753,)\n",
      "                            OLS Regression Results                            \n",
      "==============================================================================\n",
      "Dep. Variable:                incwage   R-squared:                       0.302\n",
      "Model:                            OLS   Adj. R-squared:                  0.302\n",
      "Method:                 Least Squares   F-statistic:                 2.957e+04\n",
      "Date:                Sun, 19 Dec 2021   Prob (F-statistic):               0.00\n",
      "Time:                        19:19:43   Log-Likelihood:            -5.3363e+05\n",
      "No. Observations:              273753   AIC:                         1.067e+06\n",
      "Df Residuals:                  273748   BIC:                         1.067e+06\n",
      "Df Model:                           4                                         \n",
      "Covariance Type:            nonrobust                                         \n",
      "============================================================================================\n",
      "                               coef    std err          t      P>|t|      [0.025      0.975]\n",
      "--------------------------------------------------------------------------------------------\n",
      "const                       15.4074      0.005   2843.139      0.000      15.397      15.418\n",
      "sex_female                   0.2850      0.007     42.088      0.000       0.272       0.298\n",
      "indgen_Industry             -2.0953      0.009   -235.485      0.000      -2.113      -2.078\n",
      "indgen_Unskilled service    -0.3721      0.008    -45.109      0.000      -0.388      -0.356\n",
      "indgen_Skilled service      -2.9845      0.011   -280.587      0.000      -3.005      -2.964\n",
      "==============================================================================\n",
      "Omnibus:                    45936.954   Durbin-Watson:                   1.457\n",
      "Prob(Omnibus):                  0.000   Jarque-Bera (JB):            76096.872\n",
      "Skew:                          -1.132   Prob(JB):                         0.00\n",
      "Kurtosis:                       4.244   Cond. No.                         4.28\n",
      "==============================================================================\n",
      "\n",
      "Notes:\n",
      "[1] Standard Errors assume that the covariance matrix of the errors is correctly specified.\n"
     ]
    },
    {
     "name": "stderr",
     "output_type": "stream",
     "text": [
      "/usr/local/lib/python3.9/site-packages/statsmodels/tsa/tsatools.py:142: FutureWarning: In a future version of pandas all arguments of concat except for the argument 'objs' will be keyword-only\n",
      "  x = pd.concat(x[::order], 1)\n",
      "/usr/local/lib/python3.9/site-packages/statsmodels/tsa/tsatools.py:142: FutureWarning: In a future version of pandas all arguments of concat except for the argument 'objs' will be keyword-only\n",
      "  x = pd.concat(x[::order], 1)\n"
     ]
    },
    {
     "name": "stdout",
     "output_type": "stream",
     "text": [
      "                            OLS Regression Results                            \n",
      "==============================================================================\n",
      "Dep. Variable:                incwage   R-squared:                       0.309\n",
      "Model:                            OLS   Adj. R-squared:                  0.309\n",
      "Method:                 Least Squares   F-statistic:                 2.447e+04\n",
      "Date:                Sun, 19 Dec 2021   Prob (F-statistic):               0.00\n",
      "Time:                        19:19:43   Log-Likelihood:            -5.3221e+05\n",
      "No. Observations:              273753   AIC:                         1.064e+06\n",
      "Df Residuals:                  273747   BIC:                         1.064e+06\n",
      "Df Model:                           5                                         \n",
      "Covariance Type:            nonrobust                                         \n",
      "============================================================================================\n",
      "                               coef    std err          t      P>|t|      [0.025      0.975]\n",
      "--------------------------------------------------------------------------------------------\n",
      "const                       15.6564      0.007   2195.554      0.000      15.642      15.670\n",
      "sex_female                   0.2284      0.007     33.490      0.000       0.215       0.242\n",
      "yrschool                    -0.0496      0.001    -53.353      0.000      -0.051      -0.048\n",
      "indgen_Industry             -1.9692      0.009   -214.923      0.000      -1.987      -1.951\n",
      "indgen_Unskilled service    -0.2414      0.009    -28.180      0.000      -0.258      -0.225\n",
      "indgen_Skilled service      -2.6306      0.012   -210.632      0.000      -2.655      -2.606\n",
      "==============================================================================\n",
      "Omnibus:                    48080.020   Durbin-Watson:                   1.452\n",
      "Prob(Omnibus):                  0.000   Jarque-Bera (JB):            81864.054\n",
      "Skew:                          -1.162   Prob(JB):                         0.00\n",
      "Kurtosis:                       4.334   Cond. No.                         33.5\n",
      "==============================================================================\n",
      "\n",
      "Notes:\n",
      "[1] Standard Errors assume that the covariance matrix of the errors is correctly specified.\n"
     ]
    }
   ],
   "source": [
    "# year 1995\n",
    "Y_1995 = Y.loc[Y.year == '1995']['incwage']\n",
    "X_1995 = data_reg.loc[data_reg.year == '1995']\n",
    "X_1995_1 = X_1995[['sex_female',\n",
    "                     'indgen_Industry', 'indgen_Unskilled service', 'indgen_Skilled service']]\n",
    "\n",
    "print(X_1995_1.shape)\n",
    "print(Y_1995.shape)\n",
    "\n",
    "# regression of log wage on sector and sex \n",
    "reg_3 = sm.OLS(endog= np.log(Y_1995), exog= sm.add_constant(X_1995_1))\n",
    "result_3 = reg_3.fit()\n",
    "print(result_3.summary())\n",
    "\n",
    "# for calculting mincer returns - adding years of schooling \n",
    "X_1995_2 = X_1995[['sex_female', 'yrschool',\n",
    "                     'indgen_Industry', 'indgen_Unskilled service', 'indgen_Skilled service']]\n",
    "\n",
    "reg_4 = sm.OLS(endog= np.log(Y_1995), exog= sm.add_constant(X_1995_2))\n",
    "result_4 = reg_4.fit()\n",
    "print(result_4.summary())"
   ]
  },
  {
   "cell_type": "code",
   "execution_count": 50,
   "metadata": {},
   "outputs": [
    {
     "name": "stdout",
     "output_type": "stream",
     "text": [
      "     Indonesia : Mincer Return - Results from Earnings Regressions\n",
      "========================================================================\n",
      "                         1976(unadj.) 1976(adj.) 1995(unadj.) 1995(adj.)\n",
      "------------------------------------------------------------------------\n",
      "const                    15.08***     15.14***   15.41***     15.66***  \n",
      "                         (0.01)       (0.02)     (0.01)       (0.01)    \n",
      "sex_female               0.25***      0.23***    0.28***      0.23***   \n",
      "                         (0.02)       (0.02)     (0.01)       (0.01)    \n",
      "yrschool                              -0.02***                -0.05***  \n",
      "                                      (0.00)                  (0.00)    \n",
      "indgen_Industry          -2.95***     -2.93***   -2.10***     -1.97***  \n",
      "                         (0.03)       (0.03)     (0.01)       (0.01)    \n",
      "indgen_Unskilled service -1.27***     -1.24***   -0.37***     -0.24***  \n",
      "                         (0.02)       (0.02)     (0.01)       (0.01)    \n",
      "indgen_Skilled service   -4.74***     -4.63***   -2.98***     -2.63***  \n",
      "                         (0.03)       (0.04)     (0.01)       (0.01)    \n",
      "R-squared                0.23         0.23       0.30         0.31      \n",
      "R-squared Adj.           0.23         0.23       0.30         0.31      \n",
      "========================================================================\n",
      "Standard errors in parentheses.\n",
      "* p<.1, ** p<.05, ***p<.01\n"
     ]
    }
   ],
   "source": [
    "from statsmodels.iolib.summary2 import summary_col\n",
    "\n",
    "results_table  = summary_col(results = [result_1, result_2, result_3, result_4],\n",
    "                              float_format= '%0.2f',\n",
    "                              model_names=['1976(unadj.)', '1976(adj.)',\n",
    "                                           '1995(unadj.)', '1995(adj.)',\n",
    "                                           ],\n",
    "                              regressor_order=[\"const\" ,\"sex_female\", \"yrschool\", \n",
    "                                                  \"indgen_Industry\", \"indgen_Unskilled service\",\n",
    "                                                  \"indgen_Skilled service\"],\n",
    "                              drop_omitted=True,\n",
    "                              stars = True)\n",
    "results_table.add_title(title = \"Indonesia : Mincer Return - Results from Earnings Regressions\", results= None)\n",
    "print(results_table)"
   ]
  },
  {
   "cell_type": "code",
   "execution_count": 51,
   "metadata": {},
   "outputs": [
    {
     "name": "stdout",
     "output_type": "stream",
     "text": [
      "\\begin{table}\n",
      "\\caption{Indonesia : Mincer Return - Results from Earnings Regressions}\n",
      "\\label{}\n",
      "\\begin{center}\n",
      "\\begin{tabular}{lllll}\n",
      "\\hline\n",
      "                          & 1976(unadj.) & 1976(adj.) & 1995(unadj.) & 1995(adj.)  \\\\\n",
      "\\hline\n",
      "const                     & 15.08***     & 15.14***   & 15.41***     & 15.66***    \\\\\n",
      "                          & (0.01)       & (0.02)     & (0.01)       & (0.01)      \\\\\n",
      "sex\\_female               & 0.25***      & 0.23***    & 0.28***      & 0.23***     \\\\\n",
      "                          & (0.02)       & (0.02)     & (0.01)       & (0.01)      \\\\\n",
      "yrschool                  &              & -0.02***   &              & -0.05***    \\\\\n",
      "                          &              & (0.00)     &              & (0.00)      \\\\\n",
      "indgen\\_Industry          & -2.95***     & -2.93***   & -2.10***     & -1.97***    \\\\\n",
      "                          & (0.03)       & (0.03)     & (0.01)       & (0.01)      \\\\\n",
      "indgen\\_Unskilled service & -1.27***     & -1.24***   & -0.37***     & -0.24***    \\\\\n",
      "                          & (0.02)       & (0.02)     & (0.01)       & (0.01)      \\\\\n",
      "indgen\\_Skilled service   & -4.74***     & -4.63***   & -2.98***     & -2.63***    \\\\\n",
      "                          & (0.03)       & (0.04)     & (0.01)       & (0.01)      \\\\\n",
      "R-squared                 & 0.23         & 0.23       & 0.30         & 0.31        \\\\\n",
      "R-squared Adj.            & 0.23         & 0.23       & 0.30         & 0.31        \\\\\n",
      "\\hline\n",
      "\\end{tabular}\n",
      "\\end{center}\n",
      "\\end{table}\n"
     ]
    }
   ],
   "source": [
    "print(results_table.as_latex())"
   ]
  }
 ],
 "metadata": {
  "interpreter": {
   "hash": "aee8b7b246df8f9039afb4144a1f6fd8d2ca17a180786b69acc140d282b71a49"
  },
  "kernelspec": {
   "display_name": "Python 3.9.7 64-bit",
   "name": "python3"
  },
  "language_info": {
   "codemirror_mode": {
    "name": "ipython",
    "version": 3
   },
   "file_extension": ".py",
   "mimetype": "text/x-python",
   "name": "python",
   "nbconvert_exporter": "python",
   "pygments_lexer": "ipython3",
   "version": "3.9.7"
  },
  "orig_nbformat": 4
 },
 "nbformat": 4,
 "nbformat_minor": 2
}
